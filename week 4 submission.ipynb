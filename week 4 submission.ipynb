{
  "metadata": {
    "kernelspec": {
      "name": "python",
      "display_name": "Pyolite",
      "language": "python"
    },
    "language_info": {
      "codemirror_mode": {
        "name": "python",
        "version": 3
      },
      "file_extension": ".py",
      "mimetype": "text/x-python",
      "name": "python",
      "nbconvert_exporter": "python",
      "pygments_lexer": "ipython3",
      "version": "3.8"
    }
  },
  "nbformat_minor": 4,
  "nbformat": 4,
  "cells": [
    {
      "cell_type": "markdown",
      "source": "<center>\n    <img src=\"https://s3-api.us-geo.objectstorage.softlayer.net/cf-courses-data/CognitiveClass/Logos/organization_logo/organization_logo.png\" width=\"300\" alt=\"cognitiveclass.ai logo\"  />\n</center>\n",
      "metadata": {}
    },
    {
      "cell_type": "markdown",
      "source": "#### Add your code below following the instructions given in the course\n",
      "metadata": {}
    },
    {
      "cell_type": "markdown",
      "source": "<h1>My Jupyter Notebook on IBM Watson Studio</h1>",
      "metadata": {}
    },
    {
      "cell_type": "markdown",
      "source": "**Tan Chun Mun**\nAnalyst Engineer",
      "metadata": {}
    },
    {
      "cell_type": "markdown",
      "source": "*I am interested in data science because i like to work with math and analyze data*",
      "metadata": {}
    },
    {
      "cell_type": "markdown",
      "source": "<h3>next code is a simple mathematic calculation</h3>",
      "metadata": {}
    },
    {
      "cell_type": "code",
      "source": "2+3",
      "metadata": {
        "trusted": true
      },
      "execution_count": 2,
      "outputs": [
        {
          "execution_count": 2,
          "output_type": "execute_result",
          "data": {
            "text/plain": "5"
          },
          "metadata": {}
        }
      ]
    },
    {
      "cell_type": "markdown",
      "source": "1. Chair\n2. Table\n3. Rack\n4. Desk",
      "metadata": {}
    },
    {
      "cell_type": "markdown",
      "source": "- Orange\n- Apple\n- Watermelon\n- Grape",
      "metadata": {}
    },
    {
      "cell_type": "markdown",
      "source": "--------",
      "metadata": {}
    },
    {
      "cell_type": "markdown",
      "source": "[google](https://www.google.com)",
      "metadata": {}
    },
    {
      "cell_type": "code",
      "source": "",
      "metadata": {},
      "execution_count": null,
      "outputs": []
    }
  ]
}